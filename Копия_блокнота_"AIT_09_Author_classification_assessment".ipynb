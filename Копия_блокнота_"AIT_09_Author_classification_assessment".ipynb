{
  "nbformat": 4,
  "nbformat_minor": 0,
  "metadata": {
    "kernelspec": {
      "display_name": "Python 3",
      "language": "python",
      "name": "python3"
    },
    "language_info": {
      "codemirror_mode": {
        "name": "ipython",
        "version": 3
      },
      "file_extension": ".py",
      "mimetype": "text/x-python",
      "name": "python",
      "nbconvert_exporter": "python",
      "pygments_lexer": "ipython3",
      "version": "3.6.6"
    },
    "colab": {
      "provenance": [],
      "include_colab_link": true
    }
  },
  "cells": [
    {
      "cell_type": "markdown",
      "metadata": {
        "id": "view-in-github",
        "colab_type": "text"
      },
      "source": [
        "<a href=\"https://colab.research.google.com/github/176567/deeplearning/blob/main/%D0%9A%D0%BE%D0%BF%D0%B8%D1%8F_%D0%B1%D0%BB%D0%BE%D0%BA%D0%BD%D0%BE%D1%82%D0%B0_%22AIT_09_Author_classification_assessment%22.ipynb\" target=\"_parent\"><img src=\"https://colab.research.google.com/assets/colab-badge.svg\" alt=\"Open In Colab\"/></a>"
      ]
    },
    {
      "cell_type": "markdown",
      "metadata": {
        "id": "_jiGtJu6u9ml"
      },
      "source": [
        "# Copyright\n",
        "\n",
        "<PRE>\n",
        "Copyright (c) 2023 Bálint Gyires-Tóth - All Rights Reserved\n",
        "You may use and modify this code for research and development purpuses.\n",
        "Use this code for educational purposes (self-paced or instructor led) without the permission of the author is prohibited.\n",
        "</PRE>"
      ]
    },
    {
      "cell_type": "markdown",
      "metadata": {
        "id": "oXyFC44jV-PP"
      },
      "source": [
        "# Author classification\n",
        "The task is to train a 1D CNN or an LSTM that is able to  classify text from two authors. The final model should be able to tell about a text with a given length (e.g. 60 characters) who wrote it.\n",
        "\n",
        "Please write the codes according to the following parts:"
      ]
    },
    {
      "cell_type": "markdown",
      "metadata": {
        "id": "jCnLoeGrHXsp"
      },
      "source": [
        "## Python module imports\n",
        "Import all Python modules that you would need during the Assignment."
      ]
    },
    {
      "cell_type": "code",
      "metadata": {
        "id": "7itbFGt3HXVT"
      },
      "source": [
        "from tensorflow.keras.preprocessing.text import Tokenizer\n",
        "from tensorflow.keras.preprocessing.sequence import pad_sequences\n",
        "from tensorflow.keras.models import Sequential\n",
        "from tensorflow.keras.layers import Embedding, LSTM, Dense, Dropout, Conv1D, MaxPooling1D, Flatten\n",
        "from sklearn.model_selection import train_test_split\n",
        "from tensorflow.keras.optimizers import Adam\n",
        "\n",
        "from tensorflow.keras.callbacks import EarlyStopping\n",
        "import pandas as pd\n",
        "import tensorflow as tf\n",
        "import seaborn as sns\n",
        "from sklearn.metrics import confusion_matrix\n",
        "import numpy as np"
      ],
      "execution_count": 17,
      "outputs": []
    },
    {
      "cell_type": "markdown",
      "metadata": {
        "id": "Hr617tEpHd8R"
      },
      "source": [
        "## Data acquisition\n",
        "Seek a possible dataset, you can use any source, e.g.\n",
        "* http://www.gutenberg.org/\n",
        "* https://www.kaggle.com/datasets\n",
        "* https://paperswithcode.com/datasets\n",
        "* if you would like to learn Hungarian, than e.g. https://mek.oszk.hu/\n",
        "\n",
        "You can download the text by hand (e.g. by copy-pasting some parts into txt files) or with Python."
      ]
    },
    {
      "cell_type": "code",
      "metadata": {
        "id": "NgkdQxHqHdZB",
        "colab": {
          "base_uri": "https://localhost:8080/"
        },
        "outputId": "a0cf716d-375e-414a-dc14-7fcfbf9b4262"
      },
      "source": [
        "import requests\n",
        "\n",
        "def download_text(url):\n",
        "    response = requests.get(url)\n",
        "    if response.status_code == 200:\n",
        "        return response.text\n",
        "    else:\n",
        "        print(\"Failed to download the text.\")\n",
        "        return None\n",
        "\n",
        "# Example: Downloading \"Pride and Prejudice\" by Jane Austen\n",
        "url = \"http://www.gutenberg.org/cache/epub/73504/pg73504.txt\"\n",
        "url2 = \"http://www.gutenberg.org/cache/epub/73508/pg73508.txt\"\n",
        "text = download_text(url)\n",
        "text2 = download_text(url2)\n",
        "\n",
        "if text:\n",
        "    # Save the text to a file\n",
        "    with open(\"pride_and_prejudice.txt\", \"w\", encoding=\"utf-8\") as f:\n",
        "        f.write(text)\n",
        "    print(\"Text no 1 downloaded successfully.\")\n",
        "\n",
        "if text2:\n",
        "    # Save the text to a file\n",
        "    with open(\"stories_of_elizabethan_heroes.txt\", \"w\", encoding=\"utf-8\") as f:\n",
        "        f.write(text2)\n",
        "    print(\"Text no 2 downloaded successfully.\")\n"
      ],
      "execution_count": 18,
      "outputs": [
        {
          "output_type": "stream",
          "name": "stdout",
          "text": [
            "Text no 1 downloaded successfully.\n",
            "Text no 2 downloaded successfully.\n"
          ]
        }
      ]
    },
    {
      "cell_type": "markdown",
      "source": [
        "## Data analysis\n",
        "Count the number of characters from both authors and display them on a plot (e.g. Seaborn's countplot)."
      ],
      "metadata": {
        "id": "U9Pmq91t3SRD"
      }
    },
    {
      "cell_type": "code",
      "source": [
        "import seaborn as sns\n",
        "\n",
        "author1_count = len(text)\n",
        "author2_count = len(text2)\n",
        "\n",
        "# Display the counts on a plot\n",
        "import matplotlib.pyplot as plt\n",
        "\n",
        "data = {'Author': ['Author 1', 'Author 2'], 'Character Count': [author1_count, author2_count]}\n",
        "df = pd.DataFrame(data)\n",
        "\n",
        "sns.barplot(x='Author', y='Character Count', data=df)\n",
        "plt.show()"
      ],
      "metadata": {
        "id": "uRqGdn4F3Spk",
        "colab": {
          "base_uri": "https://localhost:8080/",
          "height": 449
        },
        "outputId": "4a61b2c7-9c4e-4121-9c0d-d1bf0e9b7437"
      },
      "execution_count": 19,
      "outputs": [
        {
          "output_type": "display_data",
          "data": {
            "text/plain": [
              "<Figure size 640x480 with 1 Axes>"
            ],
            "image/png": "[encoded data removed]"
          },
          "metadata": {}
        }
      ]
    },
    {
      "cell_type": "markdown",
      "metadata": {
        "id": "cHyE_ndGIblJ"
      },
      "source": [
        "## Data loading, labeling and preprocessing\n",
        "Load the data and convert the characters into one-hot encodings. Then load the data into a 3D NumPy array, with a shape of\n",
        "\n",
        "* (batch, sequence_length, alphabet_length)\n",
        "\n",
        "where sequence_length=60, and alphabet_length equals to the number of unique characters in both datasets. The sequences should be cut out from the complete dataset by sliding window. You should add 0 and 1 labels to the sequences, according to the author.\n",
        "\n",
        "Later you may change sequence_length to achieve better results!"
      ]
    },
    {
      "cell_type": "code",
      "metadata": {
        "id": "arooXt0WIb6x",
        "colab": {
          "base_uri": "https://localhost:8080/"
        },
        "outputId": "67878c2f-dc1e-4b02-b064-7960de572c5e"
      },
      "source": [
        "import numpy as np\n",
        "import tensorflow as tf\n",
        "\n",
        "#Define the sequence length and alphabet length\n",
        "sequence_length = 60\n",
        "combined_text = text + text2\n",
        "alphabet = sorted(set(combined_text))\n",
        "alphabet_length = len(alphabet)\n",
        "\n",
        "#Create dictionaries for character to index and index to character mappings\n",
        "char_to_index = {char: i for i, char in enumerate(alphabet)}\n",
        "index_to_char = {i: char for i, char in enumerate(alphabet)}\n",
        "\n",
        "#Initialize input_data and labels as NumPy arrays\n",
        "input_data = np.zeros((len(combined_text) // sequence_length, sequence_length, alphabet_length))\n",
        "labels = np.zeros((len(combined_text) // sequence_length, 1))\n",
        "\n",
        "for i in range(0, len(text) + len(text2) - sequence_length, sequence_length):\n",
        "    if(i + sequence_length < len(text)):\n",
        "        for j in range(60):\n",
        "            input_data[i//sequence_length, j, char_to_index[text[i+j]]] = 1\n",
        "        labels[i//sequence_length] = 0\n",
        "    else:\n",
        "        for j in range(60):\n",
        "            input_data[i//sequence_length, j, char_to_index[text2[i+j-len(text)]]] = 1\n",
        "        labels[i//sequence_length] = 1\n",
        "\n",
        "#Convert the input and label arrays to TensorFlow tensors\n",
        "X = tf.convert_to_tensor(input_data, dtype=tf.float32)\n",
        "Y = tf.convert_to_tensor(labels, dtype=tf.float32)\n",
        "\n",
        "#Print the shapes of the input and label arrays\n",
        "print(\"Input data shape:\", X.shape)\n",
        "print(\"Labels shape:\", Y.shape)"
      ],
      "execution_count": 20,
      "outputs": [
        {
          "output_type": "stream",
          "name": "stdout",
          "text": [
            "Input data shape: (3340, 60, 92)\n",
            "Labels shape: (3340, 1)\n"
          ]
        }
      ]
    },
    {
      "cell_type": "markdown",
      "metadata": {
        "id": "lL1Mc8ibHnep"
      },
      "source": [
        "## Data splitting\n",
        "Split the data into train, validate and test sets. Make"
      ]
    },
    {
      "cell_type": "code",
      "metadata": {
        "id": "ELyG9XFUHrkB",
        "colab": {
          "base_uri": "https://localhost:8080/"
        },
        "outputId": "ea9b8a30-e7b6-482b-aba3-c9f7e6428b9e"
      },
      "source": [
        "\n",
        "train_ratio = 0.7\n",
        "val_ratio = 0.15\n",
        "test_ratio = 0.15\n",
        "\n",
        "num_samples = len(X)\n",
        "num_train = int(train_ratio * num_samples)\n",
        "num_val = int(val_ratio * num_samples)\n",
        "num_test = num_samples - num_train - num_val\n",
        "\n",
        "train_data = X[:num_train]\n",
        "val_data = X[num_train:num_train+num_val]\n",
        "test_data = X[num_train+num_val:]\n",
        "\n",
        "train_labels = Y[:num_train]\n",
        "val_labels = Y[num_train:num_train+num_val]\n",
        "test_labels = Y[num_train+num_val:]\n",
        "\n",
        "print(\"Train data shape:\", train_data.shape)\n",
        "print(\"Train labels shape:\", train_labels.shape)\n",
        "print(\"Validation data shape:\", val_data.shape)\n",
        "print(\"Validation labels shape:\", val_labels.shape)\n",
        "print(\"Test data shape:\", test_data.shape)\n",
        "print(\"Test labels shape:\", test_labels.shape)"
      ],
      "execution_count": 21,
      "outputs": [
        {
          "output_type": "stream",
          "name": "stdout",
          "text": [
            "Train data shape: (2338, 60, 92)\n",
            "Train labels shape: (2338, 1)\n",
            "Validation data shape: (501, 60, 92)\n",
            "Validation labels shape: (501, 1)\n",
            "Test data shape: (501, 60, 92)\n",
            "Test labels shape: (501, 1)\n"
          ]
        }
      ]
    },
    {
      "cell_type": "markdown",
      "metadata": {
        "id": "hA8U9tr7HrNQ"
      },
      "source": [
        "## Model definition\n",
        "Define a 1D CNN or an LSTM for the task. Compile the model with the correct loss function."
      ]
    },
    {
      "cell_type": "code",
      "metadata": {
        "id": "BT1V1s4kHuUe"
      },
      "source": [
        "# Define the model architecture\n",
        "model = Sequential()\n",
        "model.add(LSTM(128, input_shape=(X.shape[1],X.shape[2])))\n",
        "model.add(Dense(1))\n",
        "\n",
        "# Compile the model\n",
        "model.compile(loss='binary_crossentropy', optimizer='adam', metrics=['accuracy'])"
      ],
      "execution_count": 31,
      "outputs": []
    },
    {
      "cell_type": "code",
      "source": [
        "print(train_data.shape)\n",
        "print(train_labels.shape)\n",
        "print(val_data.shape)\n",
        "print(val_labels.shape)"
      ],
      "metadata": {
        "id": "4Gv7hPjNv_5g",
        "colab": {
          "base_uri": "https://localhost:8080/"
        },
        "outputId": "94bda77a-849d-447d-8c44-360c124885e2"
      },
      "execution_count": 32,
      "outputs": [
        {
          "output_type": "stream",
          "name": "stdout",
          "text": [
            "(2338, 60, 92)\n",
            "(2338, 1)\n",
            "(501, 60, 92)\n",
            "(501, 1)\n"
          ]
        }
      ]
    },
    {
      "cell_type": "markdown",
      "metadata": {
        "id": "hWFb-nAMHuAI"
      },
      "source": [
        "## Model training\n",
        "Train the model and apply early stopping."
      ]
    },
    {
      "cell_type": "code",
      "metadata": {
        "id": "dvgKjqp3Hwkp",
        "colab": {
          "base_uri": "https://localhost:8080/"
        },
        "outputId": "ca2c9595-0d39-4cb4-89e6-cb870e6572e2"
      },
      "source": [
        "early_stopping = EarlyStopping(patience=3, monitor='val_loss', restore_best_weights=True)\n",
        "\n",
        "# Train the model with early stopping\n",
        "model.fit(train_data, train_labels,\n",
        "          validation_data=(val_data, val_labels),\n",
        "          epochs=10,\n",
        "          batch_size=32,\n",
        "          callbacks=[early_stopping])"
      ],
      "execution_count": 33,
      "outputs": [
        {
          "output_type": "stream",
          "name": "stdout",
          "text": [
            "Epoch 1/10\n",
            "74/74 [==============================] - 11s 115ms/step - loss: 0.6943 - accuracy: 0.6459 - val_loss: 1.1169 - val_accuracy: 0.0000e+00\n",
            "Epoch 2/10\n",
            "74/74 [==============================] - 7s 100ms/step - loss: 0.6304 - accuracy: 0.6501 - val_loss: 1.2180 - val_accuracy: 0.0020\n",
            "Epoch 3/10\n",
            "74/74 [==============================] - 6s 79ms/step - loss: 0.6217 - accuracy: 0.6583 - val_loss: 1.1304 - val_accuracy: 0.0559\n",
            "Epoch 4/10\n",
            "74/74 [==============================] - 7s 98ms/step - loss: 0.6171 - accuracy: 0.6574 - val_loss: 0.9420 - val_accuracy: 0.0579\n",
            "Epoch 5/10\n",
            "74/74 [==============================] - 6s 78ms/step - loss: 0.6030 - accuracy: 0.6728 - val_loss: 0.7446 - val_accuracy: 0.4850\n",
            "Epoch 6/10\n",
            "74/74 [==============================] - 7s 94ms/step - loss: 0.5976 - accuracy: 0.6873 - val_loss: 1.0893 - val_accuracy: 0.1277\n",
            "Epoch 7/10\n",
            "74/74 [==============================] - 6s 79ms/step - loss: 0.6176 - accuracy: 0.6818 - val_loss: 1.2185 - val_accuracy: 0.0519\n",
            "Epoch 8/10\n",
            "74/74 [==============================] - 7s 100ms/step - loss: 0.5962 - accuracy: 0.6711 - val_loss: 0.8816 - val_accuracy: 0.2475\n"
          ]
        },
        {
          "output_type": "execute_result",
          "data": {
            "text/plain": [
              "<keras.src.callbacks.History at 0x78876c895a80>"
            ]
          },
          "metadata": {},
          "execution_count": 33
        }
      ]
    },
    {
      "cell_type": "markdown",
      "metadata": {
        "id": "0omw2XzSHwOo"
      },
      "source": [
        "## Evaluation on test data\n",
        "Evaluate the model on the test data in terms of loss and accuracy."
      ]
    },
    {
      "cell_type": "code",
      "metadata": {
        "id": "4bF3dQA1Hv_R",
        "colab": {
          "base_uri": "https://localhost:8080/"
        },
        "outputId": "a576ba3e-615a-4a43-ffc1-76622d48bcc8"
      },
      "source": [
        "# Evaluate the model on the test data\n",
        "loss, accuracy = model.evaluate(test_data, test_labels)\n",
        "\n",
        "# Print the loss and accuracy\n",
        "print(\"Test Loss:\", loss)\n",
        "print(\"Test Accuracy:\", accuracy)"
      ],
      "execution_count": 34,
      "outputs": [
        {
          "output_type": "stream",
          "name": "stdout",
          "text": [
            "16/16 [==============================] - 0s 27ms/step - loss: 2.4627 - accuracy: 0.2914\n",
            "Test Loss: 2.4627416133880615\n",
            "Test Accuracy: 0.2914171516895294\n"
          ]
        }
      ]
    },
    {
      "cell_type": "markdown",
      "metadata": {
        "id": "4Y73Q-h5Hz1r"
      },
      "source": [
        "## Confusion matrix\n",
        "Calculate and display the confusion matrix."
      ]
    },
    {
      "cell_type": "code",
      "metadata": {
        "id": "cW8zZi1uJm2B",
        "colab": {
          "base_uri": "https://localhost:8080/",
          "height": 228
        },
        "outputId": "2a5e1e1b-93a9-4780-a28e-36370ae368b7"
      },
      "source": [
        "# Make predictions on the test set\n",
        "predictions = model.predict(test_data)\n",
        "cm = confusion_matrix(test_labels, predictions)\n",
        "\n",
        "# Draw the confusion matrix\n",
        "import matplotlib.pyplot as plt\n",
        "\n",
        "sns.heatmap(cm, annot=True, cmap=\"Blues\", fmt=\"d\")\n",
        "plt.xlabel(\"Predicted Labels\")\n",
        "plt.ylabel(\"True Labels\")\n",
        "plt.title(\"Confusion Matrix\")\n",
        "plt.show()"
      ],
      "execution_count": 41,
      "outputs": [
        {
          "output_type": "stream",
          "name": "stdout",
          "text": [
            "16/16 [==============================] - 0s 29ms/step\n"
          ]
        },
        {
          "output_type": "error",
          "ename": "TypeError",
          "evalue": "'tensorflow.python.framework.ops.EagerTensor' object is not callable",
          "traceback": [
            "\u001b[0;31m---------------------------------------------------------------------------\u001b[0m",
            "\u001b[0;31mTypeError\u001b[0m                                 Traceback (most recent call last)",
            "\u001b[0;32m<ipython-input-41-0dba4c8ad1fd>\u001b[0m in \u001b[0;36m<cell line: 3>\u001b[0;34m()\u001b[0m\n\u001b[1;32m      1\u001b[0m \u001b[0;31m# Make predictions on the test set\u001b[0m\u001b[0;34m\u001b[0m\u001b[0;34m\u001b[0m\u001b[0m\n\u001b[1;32m      2\u001b[0m \u001b[0mpredictions\u001b[0m \u001b[0;34m=\u001b[0m \u001b[0mmodel\u001b[0m\u001b[0;34m.\u001b[0m\u001b[0mpredict\u001b[0m\u001b[0;34m(\u001b[0m\u001b[0mtest_data\u001b[0m\u001b[0;34m)\u001b[0m\u001b[0;34m\u001b[0m\u001b[0;34m\u001b[0m\u001b[0m\n\u001b[0;32m----> 3\u001b[0;31m \u001b[0mcm\u001b[0m \u001b[0;34m=\u001b[0m \u001b[0mconfusion_matrix\u001b[0m\u001b[0;34m(\u001b[0m\u001b[0mtest_labels\u001b[0m\u001b[0;34m,\u001b[0m \u001b[0mpredictions\u001b[0m\u001b[0;34m)\u001b[0m\u001b[0;34m\u001b[0m\u001b[0;34m\u001b[0m\u001b[0m\n\u001b[0m\u001b[1;32m      4\u001b[0m \u001b[0;34m\u001b[0m\u001b[0m\n\u001b[1;32m      5\u001b[0m \u001b[0;31m# Draw the confusion matrix\u001b[0m\u001b[0;34m\u001b[0m\u001b[0;34m\u001b[0m\u001b[0m\n",
            "\u001b[0;31mTypeError\u001b[0m: 'tensorflow.python.framework.ops.EagerTensor' object is not callable"
          ]
        }
      ]
    },
    {
      "cell_type": "code",
      "source": [],
      "metadata": {
        "id": "h5jCb7WTy7nW"
      },
      "execution_count": null,
      "outputs": []
    }
  ]
}